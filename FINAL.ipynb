{
 "cells": [
  {
   "cell_type": "markdown",
   "metadata": {},
   "source": [
    "## Instructions ##\n",
    "\n",
    "Run first cell below by clicking on __Run__.\n",
    "\n",
    "Then chose your holds by clicking on the hold location grid below. Your selection will appear green while clicking on the hold location buttons.\n",
    "\n",
    "After you finished your selection, press the red \"Predict difficulty!\" button. The grade of your boulder problem will then appear below the table as \"YOUR PROBLEM HAS THE GRADE: XX\".\n",
    "\n",
    "-Have fun :D\n"
   ]
  },
  {
   "cell_type": "code",
   "execution_count": 1,
   "metadata": {},
   "outputs": [
    {
     "data": {
      "application/vnd.jupyter.widget-view+json": {
       "model_id": "3d0c0fefb0614fa3bdda08589259214d",
       "version_major": 2,
       "version_minor": 0
      },
      "text/plain": [
       "VBox(children=(HBox(children=(Button(description='A18', layout=Layout(height='60%', width='45px'), style=Butto…"
      ]
     },
     "metadata": {},
     "output_type": "display_data"
    },
    {
     "data": {
      "application/vnd.jupyter.widget-view+json": {
       "model_id": "fe77df2873634549a6546cb14edf46e5",
       "version_major": 2,
       "version_minor": 0
      },
      "text/plain": [
       "Button(button_style='danger', description='Predict difficulty!', style=ButtonStyle())"
      ]
     },
     "metadata": {},
     "output_type": "display_data"
    },
    {
     "name": "stdout",
     "output_type": "stream",
     "text": [
      "['A18']\n",
      "['A18', 'D15']\n",
      "['A18', 'D15', 'G11']\n",
      "['A18', 'D15', 'G11', 'H5']\n",
      "['A18', 'D15', 'G11', 'H5', 'I1']\n",
      "YOUR BOULDER HAS THE GRADE: \t7B+\n"
     ]
    }
   ],
   "source": [
    "from functions_new3 import *\n",
    "interactive_selection()"
   ]
  },
  {
   "cell_type": "code",
   "execution_count": null,
   "metadata": {},
   "outputs": [],
   "source": []
  }
 ],
 "metadata": {
  "kernelspec": {
   "display_name": "Python 3",
   "language": "python",
   "name": "python3"
  },
  "language_info": {
   "codemirror_mode": {
    "name": "ipython",
    "version": 3
   },
   "file_extension": ".py",
   "mimetype": "text/x-python",
   "name": "python",
   "nbconvert_exporter": "python",
   "pygments_lexer": "ipython3",
   "version": "3.7.4"
  }
 },
 "nbformat": 4,
 "nbformat_minor": 2
}
